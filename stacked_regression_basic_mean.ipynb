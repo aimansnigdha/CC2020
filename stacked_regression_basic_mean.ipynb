{
 "cells": [
  {
   "cell_type": "code",
   "execution_count": 2,
   "metadata": {},
   "outputs": [],
   "source": [
    "import pandas as pd\n",
    "from sklearn.model_selection import train_test_split\n",
    "from sklearn.impute import SimpleImputer\n",
    "from sklearn.preprocessing import OneHotEncoder\n",
    "from sklearn.compose import ColumnTransformer\n",
    "from sklearn.pipeline import Pipeline\n",
    "from sklearn import preprocessing\n",
    "from sklearn.metrics import auc, accuracy_score, confusion_matrix, mean_squared_error\n",
    "from sklearn.model_selection import cross_val_score, GridSearchCV, KFold, RandomizedSearchCV, train_test_split\n",
    "from sklearn.linear_model import LinearRegression\n",
    "import numpy as np\n",
    "from sklearn.metrics import mean_absolute_error\n",
    "from sklearn.linear_model import SGDRegressor\n",
    "from sklearn.linear_model import ElasticNet, Lasso,  BayesianRidge, LassoLarsIC\n",
    "from sklearn.ensemble import RandomForestRegressor,  GradientBoostingRegressor, ExtraTreesRegressor\n",
    "from sklearn.ensemble import AdaBoostRegressor\n",
    "from sklearn.ensemble import VotingRegressor\n",
    "from sklearn.svm import SVR\n",
    "from sklearn.linear_model import LinearRegression\n",
    "from sklearn.linear_model import Lasso\n",
    "from sklearn.linear_model import ElasticNet\n",
    "from sklearn.tree import DecisionTreeRegressor\n",
    "from sklearn.neighbors import KNeighborsRegressor\n",
    "from sklearn.ensemble import GradientBoostingRegressor\n",
    "from sklearn.pipeline import make_pipeline\n",
    "from sklearn.ensemble import StackingRegressor"
   ]
  },
  {
   "cell_type": "code",
   "execution_count": 3,
   "metadata": {},
   "outputs": [],
   "source": [
    "data = pd.read_csv('CC2020_train_final.csv')"
   ]
  },
  {
   "cell_type": "code",
   "execution_count": 4,
   "metadata": {},
   "outputs": [
    {
     "data": {
      "text/html": [
       "<div>\n",
       "<style scoped>\n",
       "    .dataframe tbody tr th:only-of-type {\n",
       "        vertical-align: middle;\n",
       "    }\n",
       "\n",
       "    .dataframe tbody tr th {\n",
       "        vertical-align: top;\n",
       "    }\n",
       "\n",
       "    .dataframe thead th {\n",
       "        text-align: right;\n",
       "    }\n",
       "</style>\n",
       "<table border=\"1\" class=\"dataframe\">\n",
       "  <thead>\n",
       "    <tr style=\"text-align: right;\">\n",
       "      <th></th>\n",
       "      <th>YEAR</th>\n",
       "      <th>LOCATION</th>\n",
       "      <th>INBRED</th>\n",
       "      <th>INBRED_CLUSTER</th>\n",
       "      <th>TESTER</th>\n",
       "      <th>TESTER_CLUSTER</th>\n",
       "      <th>YIELD</th>\n",
       "    </tr>\n",
       "  </thead>\n",
       "  <tbody>\n",
       "    <tr>\n",
       "      <th>0</th>\n",
       "      <td>18</td>\n",
       "      <td>Loc 5608</td>\n",
       "      <td>Inbred_142</td>\n",
       "      <td>Cluster11</td>\n",
       "      <td>Tester_740</td>\n",
       "      <td>Cluster10</td>\n",
       "      <td>1.135462</td>\n",
       "    </tr>\n",
       "    <tr>\n",
       "      <th>1</th>\n",
       "      <td>18</td>\n",
       "      <td>Loc 4533</td>\n",
       "      <td>Inbred_142</td>\n",
       "      <td>Cluster11</td>\n",
       "      <td>Tester_740</td>\n",
       "      <td>Cluster10</td>\n",
       "      <td>1.139813</td>\n",
       "    </tr>\n",
       "    <tr>\n",
       "      <th>2</th>\n",
       "      <td>18</td>\n",
       "      <td>Loc 5620</td>\n",
       "      <td>Inbred_142</td>\n",
       "      <td>Cluster11</td>\n",
       "      <td>Tester_740</td>\n",
       "      <td>Cluster10</td>\n",
       "      <td>1.117778</td>\n",
       "    </tr>\n",
       "  </tbody>\n",
       "</table>\n",
       "</div>"
      ],
      "text/plain": [
       "   YEAR  LOCATION      INBRED INBRED_CLUSTER      TESTER TESTER_CLUSTER  \\\n",
       "0    18  Loc 5608  Inbred_142      Cluster11  Tester_740      Cluster10   \n",
       "1    18  Loc 4533  Inbred_142      Cluster11  Tester_740      Cluster10   \n",
       "2    18  Loc 5620  Inbred_142      Cluster11  Tester_740      Cluster10   \n",
       "\n",
       "      YIELD  \n",
       "0  1.135462  \n",
       "1  1.139813  \n",
       "2  1.117778  "
      ]
     },
     "execution_count": 4,
     "metadata": {},
     "output_type": "execute_result"
    }
   ],
   "source": [
    "data.head(3)"
   ]
  },
  {
   "cell_type": "code",
   "execution_count": 5,
   "metadata": {},
   "outputs": [],
   "source": [
    "X = data.drop(['YEAR', 'LOCATION'], axis=1)"
   ]
  },
  {
   "cell_type": "code",
   "execution_count": 6,
   "metadata": {},
   "outputs": [
    {
     "data": {
      "text/plain": [
       "199476"
      ]
     },
     "execution_count": 6,
     "metadata": {},
     "output_type": "execute_result"
    }
   ],
   "source": [
    "len(X)"
   ]
  },
  {
   "cell_type": "code",
   "execution_count": 7,
   "metadata": {},
   "outputs": [],
   "source": [
    "clean_data = X.groupby(['INBRED', 'INBRED_CLUSTER','TESTER', 'TESTER_CLUSTER' ],as_index=False).mean()"
   ]
  },
  {
   "cell_type": "code",
   "execution_count": 8,
   "metadata": {},
   "outputs": [
    {
     "data": {
      "text/html": [
       "<div>\n",
       "<style scoped>\n",
       "    .dataframe tbody tr th:only-of-type {\n",
       "        vertical-align: middle;\n",
       "    }\n",
       "\n",
       "    .dataframe tbody tr th {\n",
       "        vertical-align: top;\n",
       "    }\n",
       "\n",
       "    .dataframe thead th {\n",
       "        text-align: right;\n",
       "    }\n",
       "</style>\n",
       "<table border=\"1\" class=\"dataframe\">\n",
       "  <thead>\n",
       "    <tr style=\"text-align: right;\">\n",
       "      <th></th>\n",
       "      <th>INBRED</th>\n",
       "      <th>INBRED_CLUSTER</th>\n",
       "      <th>TESTER</th>\n",
       "      <th>TESTER_CLUSTER</th>\n",
       "      <th>YIELD</th>\n",
       "    </tr>\n",
       "  </thead>\n",
       "  <tbody>\n",
       "    <tr>\n",
       "      <th>0</th>\n",
       "      <td>Inbred_1071</td>\n",
       "      <td>Cluster8</td>\n",
       "      <td>Tester_1345</td>\n",
       "      <td>Cluster1</td>\n",
       "      <td>0.986544</td>\n",
       "    </tr>\n",
       "    <tr>\n",
       "      <th>1</th>\n",
       "      <td>Inbred_1071</td>\n",
       "      <td>Cluster8</td>\n",
       "      <td>Tester_4373</td>\n",
       "      <td>Cluster3</td>\n",
       "      <td>1.057704</td>\n",
       "    </tr>\n",
       "    <tr>\n",
       "      <th>2</th>\n",
       "      <td>Inbred_1071</td>\n",
       "      <td>Cluster8</td>\n",
       "      <td>Tester_4473</td>\n",
       "      <td>Cluster5</td>\n",
       "      <td>1.023704</td>\n",
       "    </tr>\n",
       "    <tr>\n",
       "      <th>3</th>\n",
       "      <td>Inbred_1071</td>\n",
       "      <td>Cluster8</td>\n",
       "      <td>Tester_4541</td>\n",
       "      <td>Cluster4</td>\n",
       "      <td>1.014735</td>\n",
       "    </tr>\n",
       "    <tr>\n",
       "      <th>4</th>\n",
       "      <td>Inbred_1071</td>\n",
       "      <td>Cluster8</td>\n",
       "      <td>Tester_5305</td>\n",
       "      <td>Cluster4</td>\n",
       "      <td>1.062727</td>\n",
       "    </tr>\n",
       "  </tbody>\n",
       "</table>\n",
       "</div>"
      ],
      "text/plain": [
       "        INBRED INBRED_CLUSTER       TESTER TESTER_CLUSTER     YIELD\n",
       "0  Inbred_1071       Cluster8  Tester_1345       Cluster1  0.986544\n",
       "1  Inbred_1071       Cluster8  Tester_4373       Cluster3  1.057704\n",
       "2  Inbred_1071       Cluster8  Tester_4473       Cluster5  1.023704\n",
       "3  Inbred_1071       Cluster8  Tester_4541       Cluster4  1.014735\n",
       "4  Inbred_1071       Cluster8  Tester_5305       Cluster4  1.062727"
      ]
     },
     "execution_count": 8,
     "metadata": {},
     "output_type": "execute_result"
    }
   ],
   "source": [
    "clean_data.head(5)"
   ]
  },
  {
   "cell_type": "code",
   "execution_count": 9,
   "metadata": {},
   "outputs": [
    {
     "data": {
      "text/plain": [
       "10919"
      ]
     },
     "execution_count": 9,
     "metadata": {},
     "output_type": "execute_result"
    }
   ],
   "source": [
    "len(clean_data)"
   ]
  },
  {
   "cell_type": "code",
   "execution_count": 10,
   "metadata": {},
   "outputs": [],
   "source": [
    "y = clean_data.YIELD"
   ]
  },
  {
   "cell_type": "code",
   "execution_count": 11,
   "metadata": {},
   "outputs": [],
   "source": [
    "data = clean_data.drop(['YIELD'], axis=1)"
   ]
  },
  {
   "cell_type": "code",
   "execution_count": 12,
   "metadata": {},
   "outputs": [
    {
     "data": {
      "text/html": [
       "<div>\n",
       "<style scoped>\n",
       "    .dataframe tbody tr th:only-of-type {\n",
       "        vertical-align: middle;\n",
       "    }\n",
       "\n",
       "    .dataframe tbody tr th {\n",
       "        vertical-align: top;\n",
       "    }\n",
       "\n",
       "    .dataframe thead th {\n",
       "        text-align: right;\n",
       "    }\n",
       "</style>\n",
       "<table border=\"1\" class=\"dataframe\">\n",
       "  <thead>\n",
       "    <tr style=\"text-align: right;\">\n",
       "      <th></th>\n",
       "      <th>INBRED</th>\n",
       "      <th>INBRED_CLUSTER</th>\n",
       "      <th>TESTER</th>\n",
       "      <th>TESTER_CLUSTER</th>\n",
       "    </tr>\n",
       "  </thead>\n",
       "  <tbody>\n",
       "    <tr>\n",
       "      <th>0</th>\n",
       "      <td>Inbred_1071</td>\n",
       "      <td>Cluster8</td>\n",
       "      <td>Tester_1345</td>\n",
       "      <td>Cluster1</td>\n",
       "    </tr>\n",
       "    <tr>\n",
       "      <th>1</th>\n",
       "      <td>Inbred_1071</td>\n",
       "      <td>Cluster8</td>\n",
       "      <td>Tester_4373</td>\n",
       "      <td>Cluster3</td>\n",
       "    </tr>\n",
       "    <tr>\n",
       "      <th>2</th>\n",
       "      <td>Inbred_1071</td>\n",
       "      <td>Cluster8</td>\n",
       "      <td>Tester_4473</td>\n",
       "      <td>Cluster5</td>\n",
       "    </tr>\n",
       "    <tr>\n",
       "      <th>3</th>\n",
       "      <td>Inbred_1071</td>\n",
       "      <td>Cluster8</td>\n",
       "      <td>Tester_4541</td>\n",
       "      <td>Cluster4</td>\n",
       "    </tr>\n",
       "    <tr>\n",
       "      <th>4</th>\n",
       "      <td>Inbred_1071</td>\n",
       "      <td>Cluster8</td>\n",
       "      <td>Tester_5305</td>\n",
       "      <td>Cluster4</td>\n",
       "    </tr>\n",
       "  </tbody>\n",
       "</table>\n",
       "</div>"
      ],
      "text/plain": [
       "        INBRED INBRED_CLUSTER       TESTER TESTER_CLUSTER\n",
       "0  Inbred_1071       Cluster8  Tester_1345       Cluster1\n",
       "1  Inbred_1071       Cluster8  Tester_4373       Cluster3\n",
       "2  Inbred_1071       Cluster8  Tester_4473       Cluster5\n",
       "3  Inbred_1071       Cluster8  Tester_4541       Cluster4\n",
       "4  Inbred_1071       Cluster8  Tester_5305       Cluster4"
      ]
     },
     "execution_count": 12,
     "metadata": {},
     "output_type": "execute_result"
    }
   ],
   "source": [
    "data.head(5)"
   ]
  },
  {
   "cell_type": "code",
   "execution_count": 13,
   "metadata": {},
   "outputs": [],
   "source": [
    "X = data"
   ]
  },
  {
   "cell_type": "code",
   "execution_count": 14,
   "metadata": {},
   "outputs": [],
   "source": [
    "label_enc = preprocessing.LabelEncoder()"
   ]
  },
  {
   "cell_type": "code",
   "execution_count": 15,
   "metadata": {},
   "outputs": [],
   "source": [
    "X['INBRED'] = label_enc.fit_transform(X['INBRED'])\n",
    "X['INBRED_CLUSTER'] = label_enc.fit_transform(X['INBRED_CLUSTER'])\n",
    "X['TESTER'] = label_enc.fit_transform(X['TESTER'])\n",
    "X['TESTER_CLUSTER'] = label_enc.fit_transform(X['TESTER_CLUSTER'])"
   ]
  },
  {
   "cell_type": "code",
   "execution_count": 16,
   "metadata": {},
   "outputs": [
    {
     "data": {
      "text/html": [
       "<div>\n",
       "<style scoped>\n",
       "    .dataframe tbody tr th:only-of-type {\n",
       "        vertical-align: middle;\n",
       "    }\n",
       "\n",
       "    .dataframe tbody tr th {\n",
       "        vertical-align: top;\n",
       "    }\n",
       "\n",
       "    .dataframe thead th {\n",
       "        text-align: right;\n",
       "    }\n",
       "</style>\n",
       "<table border=\"1\" class=\"dataframe\">\n",
       "  <thead>\n",
       "    <tr style=\"text-align: right;\">\n",
       "      <th></th>\n",
       "      <th>INBRED</th>\n",
       "      <th>INBRED_CLUSTER</th>\n",
       "      <th>TESTER</th>\n",
       "      <th>TESTER_CLUSTER</th>\n",
       "    </tr>\n",
       "  </thead>\n",
       "  <tbody>\n",
       "    <tr>\n",
       "      <th>0</th>\n",
       "      <td>0</td>\n",
       "      <td>12</td>\n",
       "      <td>0</td>\n",
       "      <td>0</td>\n",
       "    </tr>\n",
       "    <tr>\n",
       "      <th>1</th>\n",
       "      <td>0</td>\n",
       "      <td>12</td>\n",
       "      <td>125</td>\n",
       "      <td>7</td>\n",
       "    </tr>\n",
       "    <tr>\n",
       "      <th>2</th>\n",
       "      <td>0</td>\n",
       "      <td>12</td>\n",
       "      <td>136</td>\n",
       "      <td>9</td>\n",
       "    </tr>\n",
       "  </tbody>\n",
       "</table>\n",
       "</div>"
      ],
      "text/plain": [
       "   INBRED  INBRED_CLUSTER  TESTER  TESTER_CLUSTER\n",
       "0       0              12       0               0\n",
       "1       0              12     125               7\n",
       "2       0              12     136               9"
      ]
     },
     "execution_count": 16,
     "metadata": {},
     "output_type": "execute_result"
    }
   ],
   "source": [
    "X.head(3)"
   ]
  },
  {
   "cell_type": "code",
   "execution_count": 17,
   "metadata": {},
   "outputs": [],
   "source": [
    "#notice how these are all same.. number varies within same location or year"
   ]
  },
  {
   "cell_type": "code",
   "execution_count": 18,
   "metadata": {},
   "outputs": [],
   "source": [
    "enc = preprocessing.OneHotEncoder()"
   ]
  },
  {
   "cell_type": "code",
   "execution_count": 19,
   "metadata": {},
   "outputs": [],
   "source": [
    "X = enc.fit_transform(X)"
   ]
  },
  {
   "cell_type": "markdown",
   "metadata": {},
   "source": [
    "#Classifiers"
   ]
  },
  {
   "cell_type": "code",
   "execution_count": 20,
   "metadata": {},
   "outputs": [],
   "source": [
    "#GradientBoosting Basic"
   ]
  },
  {
   "cell_type": "code",
   "execution_count": 25,
   "metadata": {},
   "outputs": [],
   "source": [
    "X_train, X_test, y_train, y_test = train_test_split(X, y, test_size=0.25, random_state=np.random)"
   ]
  },
  {
   "cell_type": "code",
   "execution_count": 21,
   "metadata": {},
   "outputs": [],
   "source": [
    "lr = make_pipeline(LinearRegression())\n",
    "rfr = make_pipeline(RandomForestRegressor())\n",
    "gbr = make_pipeline(GradientBoostingRegressor())"
   ]
  },
  {
   "cell_type": "code",
   "execution_count": 22,
   "metadata": {},
   "outputs": [],
   "source": [
    "estimators = [ ('lr', LinearRegression(n_jobs = -1)), ('rfr', RandomForestRegressor(n_estimators= 1000, min_samples_split=12,min_samples_leaf = 1, max_features='sqrt', \n",
    "                                     max_depth =130, bootstrap=True, n_jobs = -1))]"
   ]
  },
  {
   "cell_type": "code",
   "execution_count": 23,
   "metadata": {},
   "outputs": [],
   "source": [
    "reg = StackingRegressor( estimators=estimators, final_estimator=GradientBoostingRegressor(subsample = 0.7, n_estimators=800, learning_rate=0.05,\n",
    "                                   max_depth=9, max_features='sqrt',\n",
    "                                   min_samples_leaf=2, min_samples_split=2, \n",
    "                                   loss='ls', random_state =5))"
   ]
  },
  {
   "cell_type": "code",
   "execution_count": 26,
   "metadata": {},
   "outputs": [
    {
     "data": {
      "text/plain": [
       "StackingRegressor(cv=None,\n",
       "                  estimators=[('lr',\n",
       "                               LinearRegression(copy_X=True, fit_intercept=True,\n",
       "                                                n_jobs=-1, normalize=False)),\n",
       "                              ('rfr',\n",
       "                               RandomForestRegressor(bootstrap=True,\n",
       "                                                     ccp_alpha=0.0,\n",
       "                                                     criterion='mse',\n",
       "                                                     max_depth=130,\n",
       "                                                     max_features='sqrt',\n",
       "                                                     max_leaf_nodes=None,\n",
       "                                                     max_samples=None,\n",
       "                                                     min_impurity_decrease=0.0,\n",
       "                                                     min_impurity_split=None,\n",
       "                                                     min_samples_leaf=1,\n",
       "                                                     min_samples_spli...\n",
       "                                                            max_features='sqrt',\n",
       "                                                            max_leaf_nodes=None,\n",
       "                                                            min_impurity_decrease=0.0,\n",
       "                                                            min_impurity_split=None,\n",
       "                                                            min_samples_leaf=2,\n",
       "                                                            min_samples_split=2,\n",
       "                                                            min_weight_fraction_leaf=0.0,\n",
       "                                                            n_estimators=800,\n",
       "                                                            n_iter_no_change=None,\n",
       "                                                            presort='deprecated',\n",
       "                                                            random_state=5,\n",
       "                                                            subsample=0.7,\n",
       "                                                            tol=0.0001,\n",
       "                                                            validation_fraction=0.1,\n",
       "                                                            verbose=0,\n",
       "                                                            warm_start=False),\n",
       "                  n_jobs=None, passthrough=False, verbose=0)"
      ]
     },
     "execution_count": 26,
     "metadata": {},
     "output_type": "execute_result"
    }
   ],
   "source": [
    "reg.fit(X_train, y_train)"
   ]
  },
  {
   "cell_type": "code",
   "execution_count": 27,
   "metadata": {},
   "outputs": [],
   "source": [
    "predictions = reg.predict(X_test)"
   ]
  },
  {
   "cell_type": "code",
   "execution_count": 28,
   "metadata": {},
   "outputs": [
    {
     "data": {
      "text/plain": [
       "0.04390136923643336"
      ]
     },
     "execution_count": 28,
     "metadata": {},
     "output_type": "execute_result"
    }
   ],
   "source": [
    "mean_absolute_error(predictions, y_test)"
   ]
  },
  {
   "cell_type": "code",
   "execution_count": null,
   "metadata": {},
   "outputs": [],
   "source": []
  }
 ],
 "metadata": {
  "kernelspec": {
   "display_name": "Python 3",
   "language": "python",
   "name": "python3"
  },
  "language_info": {
   "codemirror_mode": {
    "name": "ipython",
    "version": 3
   },
   "file_extension": ".py",
   "mimetype": "text/x-python",
   "name": "python",
   "nbconvert_exporter": "python",
   "pygments_lexer": "ipython3",
   "version": "3.6.8"
  }
 },
 "nbformat": 4,
 "nbformat_minor": 2
}
